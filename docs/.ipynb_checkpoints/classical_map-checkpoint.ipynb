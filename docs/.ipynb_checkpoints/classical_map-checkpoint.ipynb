{
 "cells": [
  {
   "cell_type": "code",
   "execution_count": 6,
   "metadata": {
    "collapsed": false
   },
   "outputs": [],
   "source": [
    "import numpy as np\n",
    "import matplotlib.pyplot as plt\n",
    "\n",
    "twopi = 2.0*np.pi\n",
    "# 写像の定義\n",
    "def Map(q,p,k):\n",
    "    pp = p + k*np.sin(q*twopi)/twopi\n",
    "    qq = q + pp\n",
    "    return [qq,pp]\n",
    "\n",
    "fig = plt.figure(figsize=(6,6))\n",
    "ax = fig.add_subplot(1,1,1)\n",
    "\n",
    "sample=50\n",
    "tmax = 500\n",
    "k=1\n",
    "q = np.random.random(sample)\n",
    "p = np.random.random(sample)\n",
    "traj = [np.array([]),np.array([])]\n",
    "for i in range(tmax):\n",
    "    q,p = Map(q,p,k)\n",
    "    q = q - np.floor(q)\n",
    "    p = p - np.floor(p)\n",
    "    traj[0] = np.append(traj[0],q)\n",
    "    traj[1] = np.append(traj[1],p)\n",
    "ax.plot(traj[0],traj[1],',k')\n",
    "plt.show()"
   ]
  },
  {
   "cell_type": "code",
   "execution_count": null,
   "metadata": {
    "collapsed": true
   },
   "outputs": [],
   "source": []
  }
 ],
 "metadata": {
  "kernelspec": {
   "display_name": "Python 3",
   "language": "python",
   "name": "python3"
  },
  "language_info": {
   "codemirror_mode": {
    "name": "ipython",
    "version": 3
   },
   "file_extension": ".py",
   "mimetype": "text/x-python",
   "name": "python",
   "nbconvert_exporter": "python",
   "pygments_lexer": "ipython3",
   "version": "3.4.3"
  }
 },
 "nbformat": 4,
 "nbformat_minor": 0
}
